{
 "cells": [
  {
   "cell_type": "code",
   "execution_count": 2,
   "id": "79bf2a95",
   "metadata": {},
   "outputs": [],
   "source": [
    "import pandas as pd"
   ]
  },
  {
   "cell_type": "code",
   "execution_count": 5,
   "id": "b976f634",
   "metadata": {},
   "outputs": [],
   "source": [
    "def getDataSet(path):\n",
    "    df  = pd.read_csv(path)\n",
    "    return df\n"
   ]
  },
  {
   "cell_type": "code",
   "execution_count": 6,
   "id": "744395fe",
   "metadata": {},
   "outputs": [],
   "source": [
    "\n",
    "def decribeDataSet(path):\n",
    "    df = getDataSet(path)\n",
    "    #Summary of the dataset\n",
    "    return df.describe()\n",
    "    "
   ]
  },
  {
   "cell_type": "code",
   "execution_count": null,
   "id": "8f618507",
   "metadata": {},
   "outputs": [],
   "source": [
    "\n",
    "def whatThis():\n",
    "    print('what called')"
   ]
  },
  {
   "cell_type": "code",
   "execution_count": null,
   "id": "dd603ca0",
   "metadata": {},
   "outputs": [],
   "source": []
  }
 ],
 "metadata": {
  "kernelspec": {
   "display_name": "Python 3 (ipykernel)",
   "language": "python",
   "name": "python3"
  },
  "language_info": {
   "codemirror_mode": {
    "name": "ipython",
    "version": 3
   },
   "file_extension": ".py",
   "mimetype": "text/x-python",
   "name": "python",
   "nbconvert_exporter": "python",
   "pygments_lexer": "ipython3",
   "version": "3.9.13"
  }
 },
 "nbformat": 4,
 "nbformat_minor": 5
}
